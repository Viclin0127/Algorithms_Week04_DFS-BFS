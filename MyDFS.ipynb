{
 "cells": [
  {
   "cell_type": "code",
   "execution_count": 7,
   "metadata": {},
   "outputs": [
    {
     "name": "stdout",
     "output_type": "stream",
     "text": [
      "[1, 2, 4, 3]\n"
     ]
    }
   ],
   "source": [
    "def DFS(G):\n",
    "    global count\n",
    "    mark = [0]*len(G)\n",
    "    count = 0\n",
    "    for v in range(len(G)):\n",
    "        if mark[v] == 0:\n",
    "            DFSExplore(v, G, mark)\n",
    "    print(mark)\n",
    "\n",
    "def DFSExplore(v, G, mark):\n",
    "    global count\n",
    "    count += 1\n",
    "    mark[v] = count\n",
    "    for w in range(len(G)):\n",
    "        if G[v][w] != 0:        #  v and w are adjacent\n",
    "            if mark[w] == 0:\n",
    "                DFSExplore(w, G, mark)\n",
    "                \n",
    "                \n",
    "def test():\n",
    "    G = [[0, 1, 0, 1]\n",
    "        ,[1, 0, 0, 1]\n",
    "        ,[0, 0, 0, 1]\n",
    "        ,[1, 1, 1, 0]]\n",
    "    DFS(G)\n",
    "    \n",
    "if __name__ == \"__main__\":\n",
    "    test()"
   ]
  },
  {
   "cell_type": "code",
   "execution_count": null,
   "metadata": {},
   "outputs": [],
   "source": []
  }
 ],
 "metadata": {
  "kernelspec": {
   "display_name": "Python 3",
   "language": "python",
   "name": "python3"
  },
  "language_info": {
   "codemirror_mode": {
    "name": "ipython",
    "version": 3
   },
   "file_extension": ".py",
   "mimetype": "text/x-python",
   "name": "python",
   "nbconvert_exporter": "python",
   "pygments_lexer": "ipython3",
   "version": "3.8.1"
  }
 },
 "nbformat": 4,
 "nbformat_minor": 4
}
