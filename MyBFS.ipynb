{
 "cells": [
  {
   "cell_type": "code",
   "execution_count": 3,
   "metadata": {},
   "outputs": [
    {
     "name": "stdout",
     "output_type": "stream",
     "text": [
      "[1, 2, 4, 3]\n"
     ]
    }
   ],
   "source": [
    "from queue import Queue\n",
    "\n",
    "def BFS(G):\n",
    "    count = 0\n",
    "    mark = [0] * len(G)\n",
    "    Q = Queue()\n",
    "    for v in range(len(G)):\n",
    "        if mark[v] == 0:\n",
    "            count += 1\n",
    "            mark[v] = count\n",
    "            Q.put(v)\n",
    "            while not Q.empty():\n",
    "                u = Q.get()\n",
    "                for w in range(len(G)):\n",
    "                    if G[u][w] != 0:\n",
    "                        if mark[w] == 0:\n",
    "                            count += 1\n",
    "                            mark[w] = count\n",
    "                            Q.put(w)\n",
    "    print(mark)\n",
    "\n",
    "def test():\n",
    "    G = [[0,1,0,1]\n",
    "        ,[1,0,0,1]\n",
    "        ,[0,0,0,1]\n",
    "        ,[1,1,1,0]]\n",
    "    BFS(G)\n",
    "    \n",
    "if __name__ == \"__main__\":\n",
    "    test()"
   ]
  },
  {
   "cell_type": "code",
   "execution_count": null,
   "metadata": {},
   "outputs": [],
   "source": []
  }
 ],
 "metadata": {
  "kernelspec": {
   "display_name": "Python 3",
   "language": "python",
   "name": "python3"
  },
  "language_info": {
   "codemirror_mode": {
    "name": "ipython",
    "version": 3
   },
   "file_extension": ".py",
   "mimetype": "text/x-python",
   "name": "python",
   "nbconvert_exporter": "python",
   "pygments_lexer": "ipython3",
   "version": "3.8.1"
  }
 },
 "nbformat": 4,
 "nbformat_minor": 4
}
